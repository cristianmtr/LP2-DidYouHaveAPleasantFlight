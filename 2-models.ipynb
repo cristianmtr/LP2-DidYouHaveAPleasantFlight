{
 "cells": [
  {
   "cell_type": "markdown",
   "metadata": {},
   "source": [
    "# MODELS"
   ]
  },
  {
   "cell_type": "code",
   "execution_count": 1,
   "metadata": {},
   "outputs": [],
   "source": [
    "from glob import glob\n",
    "import re\n",
    "import pickle\n",
    "import os\n",
    "import string\n",
    "\n",
    "import nltk\n",
    "from nltk.corpus import stopwords\n",
    "\n",
    "import pandas as pd\n",
    "\n",
    "from sklearn.feature_extraction.text import CountVectorizer, TfidfVectorizer\n",
    "\n",
    "from sklearn.model_selection import GridSearchCV\n",
    "from sklearn.pipeline import Pipeline\n",
    "\n",
    "from stemmercleaner import StemmerCleaner\n",
    "\n",
    "# algorithms\n",
    "from sklearn.linear_model import LogisticRegression,Perceptron\n",
    "from sklearn.naive_bayes import MultinomialNB\n",
    "from sklearn.svm import LinearSVC\n",
    "from sklearn.tree import DecisionTreeClassifier\n",
    "from sklearn.ensemble import RandomForestClassifier"
   ]
  },
  {
   "cell_type": "code",
   "execution_count": 2,
   "metadata": {},
   "outputs": [],
   "source": [
    "if not os.path.exists('models'):\n",
    "    os.mkdir('models')"
   ]
  },
  {
   "cell_type": "code",
   "execution_count": 3,
   "metadata": {},
   "outputs": [],
   "source": [
    "tweets = pd.read_csv(\"data.csv\", index_col=\"tweet_id\")"
   ]
  },
  {
   "cell_type": "code",
   "execution_count": 4,
   "metadata": {},
   "outputs": [
    {
     "data": {
      "text/html": [
       "<div>\n",
       "<table border=\"1\" class=\"dataframe\">\n",
       "  <thead>\n",
       "    <tr style=\"text-align: right;\">\n",
       "      <th></th>\n",
       "      <th>airline_sentiment</th>\n",
       "      <th>airline_sentiment_confidence</th>\n",
       "      <th>negativereason</th>\n",
       "      <th>negativereason_confidence</th>\n",
       "      <th>airline</th>\n",
       "      <th>airline_sentiment_gold</th>\n",
       "      <th>name</th>\n",
       "      <th>negativereason_gold</th>\n",
       "      <th>retweet_count</th>\n",
       "      <th>text</th>\n",
       "      <th>tweet_coord</th>\n",
       "      <th>tweet_created</th>\n",
       "      <th>tweet_location</th>\n",
       "      <th>user_timezone</th>\n",
       "    </tr>\n",
       "    <tr>\n",
       "      <th>tweet_id</th>\n",
       "      <th></th>\n",
       "      <th></th>\n",
       "      <th></th>\n",
       "      <th></th>\n",
       "      <th></th>\n",
       "      <th></th>\n",
       "      <th></th>\n",
       "      <th></th>\n",
       "      <th></th>\n",
       "      <th></th>\n",
       "      <th></th>\n",
       "      <th></th>\n",
       "      <th></th>\n",
       "      <th></th>\n",
       "    </tr>\n",
       "  </thead>\n",
       "  <tbody>\n",
       "    <tr>\n",
       "      <th>570306133677760513</th>\n",
       "      <td>neutral</td>\n",
       "      <td>1.0000</td>\n",
       "      <td>NaN</td>\n",
       "      <td>NaN</td>\n",
       "      <td>Virgin America</td>\n",
       "      <td>NaN</td>\n",
       "      <td>cairdin</td>\n",
       "      <td>NaN</td>\n",
       "      <td>0</td>\n",
       "      <td>@VirginAmerica What @dhepburn said.</td>\n",
       "      <td>NaN</td>\n",
       "      <td>2015-02-24 11:35:52 -0800</td>\n",
       "      <td>NaN</td>\n",
       "      <td>Eastern Time (US &amp; Canada)</td>\n",
       "    </tr>\n",
       "    <tr>\n",
       "      <th>570301130888122368</th>\n",
       "      <td>positive</td>\n",
       "      <td>0.3486</td>\n",
       "      <td>NaN</td>\n",
       "      <td>0.0000</td>\n",
       "      <td>Virgin America</td>\n",
       "      <td>NaN</td>\n",
       "      <td>jnardino</td>\n",
       "      <td>NaN</td>\n",
       "      <td>0</td>\n",
       "      <td>@VirginAmerica plus you've added commercials t...</td>\n",
       "      <td>NaN</td>\n",
       "      <td>2015-02-24 11:15:59 -0800</td>\n",
       "      <td>NaN</td>\n",
       "      <td>Pacific Time (US &amp; Canada)</td>\n",
       "    </tr>\n",
       "    <tr>\n",
       "      <th>570301083672813571</th>\n",
       "      <td>neutral</td>\n",
       "      <td>0.6837</td>\n",
       "      <td>NaN</td>\n",
       "      <td>NaN</td>\n",
       "      <td>Virgin America</td>\n",
       "      <td>NaN</td>\n",
       "      <td>yvonnalynn</td>\n",
       "      <td>NaN</td>\n",
       "      <td>0</td>\n",
       "      <td>@VirginAmerica I didn't today... Must mean I n...</td>\n",
       "      <td>NaN</td>\n",
       "      <td>2015-02-24 11:15:48 -0800</td>\n",
       "      <td>Lets Play</td>\n",
       "      <td>Central Time (US &amp; Canada)</td>\n",
       "    </tr>\n",
       "    <tr>\n",
       "      <th>570301031407624196</th>\n",
       "      <td>negative</td>\n",
       "      <td>1.0000</td>\n",
       "      <td>Bad Flight</td>\n",
       "      <td>0.7033</td>\n",
       "      <td>Virgin America</td>\n",
       "      <td>NaN</td>\n",
       "      <td>jnardino</td>\n",
       "      <td>NaN</td>\n",
       "      <td>0</td>\n",
       "      <td>@VirginAmerica it's really aggressive to blast...</td>\n",
       "      <td>NaN</td>\n",
       "      <td>2015-02-24 11:15:36 -0800</td>\n",
       "      <td>NaN</td>\n",
       "      <td>Pacific Time (US &amp; Canada)</td>\n",
       "    </tr>\n",
       "    <tr>\n",
       "      <th>570300817074462722</th>\n",
       "      <td>negative</td>\n",
       "      <td>1.0000</td>\n",
       "      <td>Can't Tell</td>\n",
       "      <td>1.0000</td>\n",
       "      <td>Virgin America</td>\n",
       "      <td>NaN</td>\n",
       "      <td>jnardino</td>\n",
       "      <td>NaN</td>\n",
       "      <td>0</td>\n",
       "      <td>@VirginAmerica and it's a really big bad thing...</td>\n",
       "      <td>NaN</td>\n",
       "      <td>2015-02-24 11:14:45 -0800</td>\n",
       "      <td>NaN</td>\n",
       "      <td>Pacific Time (US &amp; Canada)</td>\n",
       "    </tr>\n",
       "  </tbody>\n",
       "</table>\n",
       "</div>"
      ],
      "text/plain": [
       "                   airline_sentiment  airline_sentiment_confidence  \\\n",
       "tweet_id                                                             \n",
       "570306133677760513           neutral                        1.0000   \n",
       "570301130888122368          positive                        0.3486   \n",
       "570301083672813571           neutral                        0.6837   \n",
       "570301031407624196          negative                        1.0000   \n",
       "570300817074462722          negative                        1.0000   \n",
       "\n",
       "                   negativereason  negativereason_confidence         airline  \\\n",
       "tweet_id                                                                       \n",
       "570306133677760513            NaN                        NaN  Virgin America   \n",
       "570301130888122368            NaN                     0.0000  Virgin America   \n",
       "570301083672813571            NaN                        NaN  Virgin America   \n",
       "570301031407624196     Bad Flight                     0.7033  Virgin America   \n",
       "570300817074462722     Can't Tell                     1.0000  Virgin America   \n",
       "\n",
       "                   airline_sentiment_gold        name negativereason_gold  \\\n",
       "tweet_id                                                                    \n",
       "570306133677760513                    NaN     cairdin                 NaN   \n",
       "570301130888122368                    NaN    jnardino                 NaN   \n",
       "570301083672813571                    NaN  yvonnalynn                 NaN   \n",
       "570301031407624196                    NaN    jnardino                 NaN   \n",
       "570300817074462722                    NaN    jnardino                 NaN   \n",
       "\n",
       "                    retweet_count  \\\n",
       "tweet_id                            \n",
       "570306133677760513              0   \n",
       "570301130888122368              0   \n",
       "570301083672813571              0   \n",
       "570301031407624196              0   \n",
       "570300817074462722              0   \n",
       "\n",
       "                                                                 text  \\\n",
       "tweet_id                                                                \n",
       "570306133677760513                @VirginAmerica What @dhepburn said.   \n",
       "570301130888122368  @VirginAmerica plus you've added commercials t...   \n",
       "570301083672813571  @VirginAmerica I didn't today... Must mean I n...   \n",
       "570301031407624196  @VirginAmerica it's really aggressive to blast...   \n",
       "570300817074462722  @VirginAmerica and it's a really big bad thing...   \n",
       "\n",
       "                   tweet_coord              tweet_created tweet_location  \\\n",
       "tweet_id                                                                   \n",
       "570306133677760513         NaN  2015-02-24 11:35:52 -0800            NaN   \n",
       "570301130888122368         NaN  2015-02-24 11:15:59 -0800            NaN   \n",
       "570301083672813571         NaN  2015-02-24 11:15:48 -0800      Lets Play   \n",
       "570301031407624196         NaN  2015-02-24 11:15:36 -0800            NaN   \n",
       "570300817074462722         NaN  2015-02-24 11:14:45 -0800            NaN   \n",
       "\n",
       "                                 user_timezone  \n",
       "tweet_id                                        \n",
       "570306133677760513  Eastern Time (US & Canada)  \n",
       "570301130888122368  Pacific Time (US & Canada)  \n",
       "570301083672813571  Central Time (US & Canada)  \n",
       "570301031407624196  Pacific Time (US & Canada)  \n",
       "570300817074462722  Pacific Time (US & Canada)  "
      ]
     },
     "execution_count": 4,
     "metadata": {},
     "output_type": "execute_result"
    }
   ],
   "source": [
    "tweets.head()"
   ]
  },
  {
   "cell_type": "code",
   "execution_count": 5,
   "metadata": {},
   "outputs": [],
   "source": [
    "def encode_sentiment_classes(v):\n",
    "    if v == 'neutral':\n",
    "        return 0\n",
    "    elif v == 'positive':\n",
    "        return 1\n",
    "    else:\n",
    "        return -1"
   ]
  },
  {
   "cell_type": "code",
   "execution_count": 6,
   "metadata": {},
   "outputs": [],
   "source": [
    "X_raw = tweets.text\n",
    "X = StemmerCleaner().fit(X_raw).transform(X_raw)"
   ]
  },
  {
   "cell_type": "code",
   "execution_count": 7,
   "metadata": {},
   "outputs": [],
   "source": [
    "X.to_csv('x-stemmer.csv', encoding='utf8')"
   ]
  },
  {
   "cell_type": "code",
   "execution_count": 8,
   "metadata": {},
   "outputs": [],
   "source": [
    "y = tweets.airline_sentiment.apply(encode_sentiment_classes)"
   ]
  },
  {
   "cell_type": "code",
   "execution_count": 9,
   "metadata": {},
   "outputs": [],
   "source": [
    "y.to_csv(\"y.csv\", encoding=\"utf8\")"
   ]
  },
  {
   "cell_type": "code",
   "execution_count": 10,
   "metadata": {},
   "outputs": [
    {
     "data": {
      "text/plain": [
       "array([ 0,  1,  0, -1, -1], dtype=int64)"
      ]
     },
     "execution_count": 10,
     "metadata": {},
     "output_type": "execute_result"
    }
   ],
   "source": [
    "y = y.values\n",
    "y[:5]"
   ]
  },
  {
   "cell_type": "code",
   "execution_count": 11,
   "metadata": {},
   "outputs": [
    {
     "data": {
      "text/plain": [
       "array(['said', 'plu ad commerci experi tacki',\n",
       "       'today must mean need take anoth trip',\n",
       "       'realli aggress blast obnoxi entertain guest face amp littl recours',\n",
       "       'realli big bad thing'], dtype=object)"
      ]
     },
     "execution_count": 11,
     "metadata": {},
     "output_type": "execute_result"
    }
   ],
   "source": [
    "X = X.values\n",
    "X[:5]"
   ]
  },
  {
   "cell_type": "markdown",
   "metadata": {},
   "source": [
    "### STORAGE PROCEDURE"
   ]
  },
  {
   "cell_type": "code",
   "execution_count": 12,
   "metadata": {},
   "outputs": [],
   "source": [
    "def format_filename(s):\n",
    "    \"\"\"Take a string and return a valid filename constructed from the string.\n",
    "Uses a whitelist approach: any characters not present in valid_chars are\n",
    "removed. Also spaces are replaced with underscores.\n",
    " \n",
    "Note: this method may produce invalid filenames such as ``, `.` or `..`\n",
    "When I use this method I prepend a date string like '2009_01_15_19_46_32_'\n",
    "and append a file extension like '.txt', so I avoid the potential of using\n",
    "an invalid filename.\n",
    " \n",
    "from https://gist.github.com/seanh/93666\n",
    "\"\"\"\n",
    "    valid_chars = \"-_.() %s%s\" % (string.ascii_letters, string.digits)\n",
    "    filename = ''.join(c for c in s if c in valid_chars)\n",
    "    filename = filename.replace(' ','_') # I don't like spaces in filenames.\n",
    "    return filename"
   ]
  },
  {
   "cell_type": "code",
   "execution_count": 13,
   "metadata": {},
   "outputs": [],
   "source": [
    "def get_model_name(transformer, model, cleaner_name):\n",
    "    name = '%s-%s-%s' %(cleaner_name, transformer_name.lower(), model_name.lower())\n",
    "    return name"
   ]
  },
  {
   "cell_type": "code",
   "execution_count": 14,
   "metadata": {},
   "outputs": [],
   "source": [
    "def dump_results(res):\n",
    "    fname = get_filename_for_model_name(res['name'])\n",
    "    pickle.dump(res, open(fname, 'wb'))"
   ]
  },
  {
   "cell_type": "code",
   "execution_count": 15,
   "metadata": {},
   "outputs": [],
   "source": [
    "def get_filename_for_model_name(name):\n",
    "    name = format_filename(name)\n",
    "    name = '%s.model' %name\n",
    "    name = os.path.join('models', name)\n",
    "    return name"
   ]
  },
  {
   "cell_type": "code",
   "execution_count": 16,
   "metadata": {},
   "outputs": [],
   "source": [
    "def is_grid_search_with_transformer(model):\n",
    "    return type(model) == sklearn.model_selection._search.GridSearchCV and len(model.estimator.steps) == 2"
   ]
  },
  {
   "cell_type": "markdown",
   "metadata": {},
   "source": [
    "## GRIDSEARCH"
   ]
  },
  {
   "cell_type": "markdown",
   "metadata": {},
   "source": [
    "Only using stemmer, since it performs better in all situations"
   ]
  },
  {
   "cell_type": "code",
   "execution_count": 17,
   "metadata": {},
   "outputs": [],
   "source": [
    "cleaners = [\n",
    "#     ('basic', BasicCleaner().fit(X_raw).transform(X_raw)),\n",
    "    ('stemmer', X),\n",
    "]"
   ]
  },
  {
   "cell_type": "code",
   "execution_count": 18,
   "metadata": {},
   "outputs": [],
   "source": [
    "transformers = [\n",
    "    [\n",
    "        'CountVectorizerDefault', \n",
    "        CountVectorizer(),\n",
    "        {}\n",
    "    ],\n",
    "    [\n",
    "        'TfidfVectorizerDefault', \n",
    "        TfidfVectorizer(),\n",
    "        {}\n",
    "    ]\n",
    "]"
   ]
  },
  {
   "cell_type": "code",
   "execution_count": 19,
   "metadata": {},
   "outputs": [],
   "source": [
    "models = [\n",
    "    [\n",
    "        'LogisticRegression-l2',\n",
    "        LogisticRegression(max_iter=2000),\n",
    "        {\n",
    "            'C': (0.001, 0.01, 0.1, 1, 10, 100, 1000),\n",
    "            'penalty': ['l2'],\n",
    "            'class_weight': ('balanced', None),\n",
    "            'solver': ('newton-cg', 'sag', 'lbfgs')\n",
    "        },\n",
    "    ],\n",
    "    [\n",
    "        'LinearSVC',\n",
    "        LinearSVC(),\n",
    "        {\n",
    "            'C': [0.001, 0.01, 0.1, 1, 10],\n",
    "        }\n",
    "    ],\n",
    "    [\n",
    "        'Perceptron',\n",
    "        Perceptron(),\n",
    "        {\n",
    "            'alpha': [0.0001, 0.0003, 0.001, 0.003, 0.01, 0.03, 0.1, 0.3],\n",
    "            'n_iter': [5, 10, 15, 20, 50],\n",
    "            'penalty': [None, 'l2', 'l1', 'elasticnet']\n",
    "        }\n",
    "    ],\n",
    "    [\n",
    "        'MultinomialNB',\n",
    "        MultinomialNB(),\n",
    "        {\n",
    "            'alpha': [0.1, 0.5, 1.0, 1.5, 2.0]\n",
    "        }\n",
    "    ],\n",
    "    [\n",
    "        'DecisionTreeClassifier',\n",
    "        DecisionTreeClassifier(),\n",
    "        {\n",
    "            'min_samples_split' : range(10,500,20),\n",
    "            'max_depth': range(1,20,2)\n",
    "        } \n",
    "    ],\n",
    "       [\n",
    "        'RandomForestClassifier',\n",
    "        RandomForestClassifier(),\n",
    "        {\n",
    "            'max_depth': [10, 50, 110, None],\n",
    "            'max_features': ['auto', 'sqrt'],\n",
    "            'n_estimators': [200, 500, 1000]\n",
    "        }\n",
    "    ]    \n",
    "]"
   ]
  },
  {
   "cell_type": "code",
   "execution_count": 20,
   "metadata": {},
   "outputs": [
    {
     "name": "stdout",
     "output_type": "stream",
     "text": [
      "CountVectorizerDefault with LogisticRegression-l2 (stemmer cleaner)...\n",
      "Skipping. Model exists at models\\stemmer-countvectorizerdefault-logisticregression-l2.model\n",
      "CountVectorizerDefault with LinearSVC (stemmer cleaner)...\n",
      "Skipping. Model exists at models\\stemmer-countvectorizerdefault-linearsvc.model\n",
      "CountVectorizerDefault with Perceptron (stemmer cleaner)...\n",
      "Skipping. Model exists at models\\stemmer-countvectorizerdefault-perceptron.model\n",
      "CountVectorizerDefault with MultinomialNB (stemmer cleaner)...\n",
      "Skipping. Model exists at models\\stemmer-countvectorizerdefault-multinomialnb.model\n",
      "CountVectorizerDefault with DecisionTreeClassifier (stemmer cleaner)...\n",
      "Skipping. Model exists at models\\stemmer-countvectorizerdefault-decisiontreeclassifier.model\n",
      "CountVectorizerDefault with RandomForestClassifier (stemmer cleaner)...\n",
      "Skipping. Model exists at models\\stemmer-countvectorizerdefault-randomforestclassifier.model\n",
      "TfidfVectorizerDefault with LogisticRegression-l2 (stemmer cleaner)...\n",
      "Skipping. Model exists at models\\stemmer-tfidfvectorizerdefault-logisticregression-l2.model\n",
      "TfidfVectorizerDefault with LinearSVC (stemmer cleaner)...\n",
      "Skipping. Model exists at models\\stemmer-tfidfvectorizerdefault-linearsvc.model\n",
      "TfidfVectorizerDefault with Perceptron (stemmer cleaner)...\n",
      "Skipping. Model exists at models\\stemmer-tfidfvectorizerdefault-perceptron.model\n",
      "TfidfVectorizerDefault with MultinomialNB (stemmer cleaner)...\n",
      "Skipping. Model exists at models\\stemmer-tfidfvectorizerdefault-multinomialnb.model\n",
      "TfidfVectorizerDefault with DecisionTreeClassifier (stemmer cleaner)...\n",
      "Skipping. Model exists at models\\stemmer-tfidfvectorizerdefault-decisiontreeclassifier.model\n",
      "TfidfVectorizerDefault with RandomForestClassifier (stemmer cleaner)...\n",
      "Skipping. Model exists at models\\stemmer-tfidfvectorizerdefault-randomforestclassifier.model\n"
     ]
    }
   ],
   "source": [
    "for cleaner_name, data in cleaners:\n",
    "    for transformer_name, transformer, transformer_params in transformers:\n",
    "        for model_name, model, model_params in models:\n",
    "            \n",
    "            print('%s with %s (%s cleaner)...' %(transformer_name, model_name, cleaner_name))\n",
    "            \n",
    "            name = get_model_name(model_name, transformer_name, cleaner_name)\n",
    "            fname = get_filename_for_model_name(name)\n",
    "            \n",
    "            if not os.path.exists(fname):\n",
    "                X = data\n",
    "                K = 5\n",
    "                \n",
    "                pipeline = Pipeline(\n",
    "                    [\n",
    "                        (transformer_name, transformer),\n",
    "#                         ('to_dense', DenseTransformer()), \n",
    "                        (model_name, model)\n",
    "                    ]\n",
    "                )\n",
    "                \n",
    "                new_params = {}\n",
    "\n",
    "                for k, v in model_params.items():\n",
    "                    new_k = model_name + \"__\" + k\n",
    "                    new_params[new_k] = v\n",
    "                \n",
    "                parameters = {\n",
    "                    **transformer_params,\n",
    "                    **new_params\n",
    "                }\n",
    "                print(parameters)\n",
    "        \n",
    "                grid = GridSearchCV(\n",
    "                    pipeline,\n",
    "                    parameters,\n",
    "                    n_jobs=-1,\n",
    "                    cv=K\n",
    "                )\n",
    "            \n",
    "                grid.fit(X, y)\n",
    "                model = grid.best_estimator_\n",
    "                score = grid.best_score_\n",
    "                \n",
    "                res = {\n",
    "                    'name': name,\n",
    "                    'transformer': transformer,\n",
    "                    'transformer_name': transformer_name,\n",
    "                    'model': model,\n",
    "                    'model_name': model_name,\n",
    "                    'cleaner': cleaner_name,\n",
    "                    'score': score,\n",
    "                    }\n",
    "\n",
    "                dump_results(res)\n",
    "                print('Saved to %s' %fname)\n",
    "\n",
    "            else:\n",
    "                print('Skipping. Model exists at %s' %fname)"
   ]
  },
  {
   "cell_type": "code",
   "execution_count": null,
   "metadata": {},
   "outputs": [],
   "source": []
  }
 ],
 "metadata": {
  "kernelspec": {
   "display_name": "Python 3",
   "language": "python",
   "name": "python3"
  },
  "language_info": {
   "codemirror_mode": {
    "name": "ipython",
    "version": 3
   },
   "file_extension": ".py",
   "mimetype": "text/x-python",
   "name": "python",
   "nbconvert_exporter": "python",
   "pygments_lexer": "ipython3",
   "version": "3.6.0"
  }
 },
 "nbformat": 4,
 "nbformat_minor": 2
}
